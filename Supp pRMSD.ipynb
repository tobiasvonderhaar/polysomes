{
 "cells": [
  {
   "cell_type": "code",
   "execution_count": 2,
   "id": "2d719db9-e88b-415b-8ae6-c0ddea5d8129",
   "metadata": {},
   "outputs": [],
   "source": [
    "import polyan\n",
    "import pandas as pd\n",
    "from scipy.stats import norm"
   ]
  },
  {
   "cell_type": "code",
   "execution_count": 2,
   "id": "8322618e-1b46-4e47-a3cc-c40688274d7e",
   "metadata": {},
   "outputs": [
    {
     "name": "stdout",
     "output_type": "stream",
     "text": [
      "0.014 0.005\n"
     ]
    }
   ],
   "source": [
    "#determine the reference distribution of RMSD values to the\n",
    "#centroid dataset for the yeast datasets\n",
    "\n",
    "#process the \"known good\" yeast dataset files\n",
    "#(selected from figure 5 C)\n",
    "include_files = ['GSE106572','GSE107718','GSE109343','GSE109734','GSE116523',\n",
    "                 'GSE122039','GSE124428','GSE13750','GSE34082','GSE41590',\n",
    "                 'GSE45366','GSE50049','GSE51164','GSE51532','GSE52119',\n",
    "                 'GSE53313','GSE56622','GSE59573','GSE61753','GSE63789',\n",
    "                 'GSE66411','GSE67387','GSE72030','GSE76117','GSE81269',\n",
    "                 'GSE84746','GSE85036','GSE85198','GSE85590','GSE86466',\n",
    "                 'GSE87614'\n",
    "]\n",
    "vols = []\n",
    "for file in include_files:\n",
    "    #load data\n",
    "    dats = pd.read_csv('Data/' + file + '.csv')\n",
    "    #model peak volumes with reference RNA data for each dataset\n",
    "    vols.append(polyan.fp2poly(dats[['ORF','Ribo_Prints']],has_RNA=False))\n",
    "#calculate all pairwise RMSDs\n",
    "all_pairwise = []\n",
    "for d1 in range(0,len(vols)-1):\n",
    "    for d2 in range(d1+1,len(vols)):\n",
    "        all_pairwise.append(polyan.rmsd_profile(vols[d1],vols[d2]))\n",
    "mu, std = norm.fit(all_pairwise)\n",
    "print(\"{:.3f}\".format(mu),\"{:.3f}\".format(std))"
   ]
  },
  {
   "cell_type": "code",
   "execution_count": null,
   "id": "fe4f7f44-601d-44eb-9b68-ec70ea70a2ab",
   "metadata": {},
   "outputs": [],
   "source": []
  },
  {
   "cell_type": "code",
   "execution_count": null,
   "id": "110c8d47-54ad-45ec-87dc-0a004bce0fa5",
   "metadata": {},
   "outputs": [],
   "source": []
  },
  {
   "cell_type": "code",
   "execution_count": null,
   "id": "8ce4cfaa-58f6-4a8e-bc97-3d427d02f2ef",
   "metadata": {},
   "outputs": [],
   "source": []
  }
 ],
 "metadata": {
  "kernelspec": {
   "display_name": "Python 3 (ipykernel)",
   "language": "python",
   "name": "python3"
  },
  "language_info": {
   "codemirror_mode": {
    "name": "ipython",
    "version": 3
   },
   "file_extension": ".py",
   "mimetype": "text/x-python",
   "name": "python",
   "nbconvert_exporter": "python",
   "pygments_lexer": "ipython3",
   "version": "3.7.11"
  }
 },
 "nbformat": 4,
 "nbformat_minor": 5
}
