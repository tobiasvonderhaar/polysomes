{
 "cells": [
  {
   "cell_type": "code",
   "execution_count": 1,
   "metadata": {},
   "outputs": [],
   "source": [
    "import pandas as pd\n",
    "import matplotlib.pyplot as plt\n",
    "import cycler\n",
    "import numpy as np\n",
    "import polyan\n",
    "from polan import find_poly_peaks,fit_peaks"
   ]
  },
  {
   "cell_type": "markdown",
   "metadata": {},
   "source": [
    "<h1>Tabulating main peaks for individual transcripts</h1>"
   ]
  },
  {
   "cell_type": "code",
   "execution_count": 2,
   "metadata": {},
   "outputs": [],
   "source": [
    "#read in list of datasets to be processed and context information (length) for genes\n",
    "Datasets_table = pd.read_csv('Data/yeast_datasets.csv')\n",
    "genes = pd.read_csv('Data/sacCer3 genes.csv')[['name','length']]; genes.columns = ['ORF','length']\n",
    "RNA_dats = pd.read_csv('Data/RNA_reference.csv')\n",
    "#define datasets that do not yield well-formed profiles when modelled with the reference dataset\n",
    "exclude_set = ['GSE121189','108778','115366','56622','100626']\n",
    "Datasets = [d for d in Datasets_table['SeriesID'] if not d in exclude_set]\n",
    "#prepare a dataframe to receive the results\n",
    "loads = pd.DataFrame({'ORF':genes['ORF']})\n",
    "#process each dataset file listed in the Datasets table\n",
    "for Dataset in Datasets:\n",
    "    #read in dataset\n",
    "    dats = pd.read_csv(\"Data/\" + Dataset + '.csv')[['ORF','Ribo_Prints']]\n",
    "    #add reference RNA data \n",
    "    dats=dats.merge(RNA_dats, how='inner',on='ORF')\n",
    "    #remove all datapoints where RNA = 0 to avoid dividing by zero\n",
    "    dats = dats.loc[dats['RNA_Prints'] > 0]\n",
    "    #add information on gene lengths to enable calculation of RPK values\n",
    "    dats = dats.merge(genes, how='inner',on='ORF')\n",
    "    #calculate conversion factors from RNA RPK / Ribo Prints to numbers of RNAs / Ribosomes\n",
    "    RNA_Conv = 60000 / (dats['RNA_Prints']/dats['length']/1000).sum()\n",
    "    Ribo_Conv = 170000 / dats['Ribo_Prints'].sum()\n",
    "    #calculate ribosome loads\n",
    "    dats[Dataset] = round((dats['Ribo_Prints'] * Ribo_Conv) / ((dats['RNA_Prints'] / dats['length']/1000)*RNA_Conv))\n",
    "    #discard unnecessary columns\n",
    "    dats = dats[['ORF',Dataset]]\n",
    "    #merge data for this dataset into the main table\n",
    "    loads = loads.merge(dats, how='left',on='ORF')\n",
    "    loads = loads.fillna(0)\n",
    "#add RNA abundance and length data into the table\n",
    "RNA_ref = RNA_dats.merge(genes, how='inner',on='ORF')\n",
    "RNA_Conv = 60000 / (RNA_ref['RNA_Prints']/RNA_ref['length']/1000).sum()\n",
    "RNA_ref['copies'] = ((RNA_ref['RNA_Prints'] / RNA_ref['length']/1000)*RNA_Conv)\n",
    "loads = loads.merge(RNA_ref, how='inner',on='ORF')"
   ]
  },
  {
   "cell_type": "markdown",
   "metadata": {},
   "source": [
    "<h2>Display main peak positions for selected individual RNAs</h2>\n",
    "<ul>\n",
    "    <li>YDL184C: RPL41 - short</li>\n",
    "    <li>YOR303W: BOL3 - short</li>\n",
    "    <li>YEL009C: GCN4 - translationally repressed</li>\n",
    "    <li>YOR128C: ADE2 - household gene</li>\n",
    "    <li>YOL086C: ADH1 - household gene</li>\n",
    "    <li>YFL039C: ACT1 - household gene</li>\n",
    "</ul>"
   ]
  },
  {
   "cell_type": "code",
   "execution_count": 3,
   "metadata": {},
   "outputs": [],
   "source": [
    "#define list of selected examples\n",
    "selec = ['YDL184C','YOR303W','YOR128C','YOL086C','YFL039C','YEL009C']\n",
    "selec_common = ['RPL41','BOL3','ADE2','ADH1','ACT1','GCN4']\n",
    "\n",
    "#read in the experimental profile to display as reference\n",
    "yeast_trace = pd.read_csv('Data/poly_yeast.csv')\n",
    "#ensure that data are in ascending x axis order\n",
    "yeast_trace = yeast_trace.sort_values('x')\n",
    "#normalise x axis \n",
    "yeast_trace.x = yeast_trace.x / max(yeast_trace.x)\n",
    "#define peak locations as in figure 3\n",
    "autopeaks = np.asarray(find_poly_peaks(yeast_trace))\n",
    "extrapeaks,peakfun = fit_peaks(autopeaks,0.95,mode=0.34)\n",
    "peak_locs = list(autopeaks) + list(extrapeaks)"
   ]
  },
  {
   "cell_type": "code",
   "execution_count": 4,
   "metadata": {},
   "outputs": [],
   "source": [
    "rowcount = 0\n",
    "xs,ys = [],[]\n",
    "for gene in selec:\n",
    "    #select the data for the selected gene\n",
    "    peaks = loads.loc[loads['ORF'] == gene].values[0,1:-3]\n",
    "    #convert peak numbers higher than the modelled range to the top of the modelled range\n",
    "    peaks = [n if n <= 14 else 14 for n in peaks]\n",
    "    peaks = [1 if peak == 0 else peak for peak in peaks]\n",
    "    #convert peak numbers to x coordinates and record\n",
    "    x = ([peak_locs[int(i+1)] + np.random.randn() * peak_locs[int(i)] * 0.01 for i in peaks])\n",
    "    xs.append(x)\n",
    "    y = [1.1 + (rowcount * 0.5)]*len(xs[-1])\n",
    "    y = [this_y + np.random.randn() * 0.04 for this_y in y]\n",
    "    ys.append(y)\n",
    "    rowcount += 1"
   ]
  },
  {
   "cell_type": "code",
   "execution_count": 5,
   "metadata": {},
   "outputs": [
    {
     "data": {
      "image/png": "[encoded data removed]",
      "text/plain": [
       "<Figure size 432x576 with 1 Axes>"
      ]
     },
     "metadata": {
      "needs_background": "light"
     },
     "output_type": "display_data"
    }
   ],
   "source": [
    "n = len(xs) + 2\n",
    "color = plt.cm.plasma(np.linspace(0, 1,n))\n",
    "plt.rcParams['axes.prop_cycle'] = cycler.cycler('color', color)\n",
    "fig,ax = plt.subplots(figsize = (6,8))\n",
    "ax.scatter(yeast_trace['x'],yeast_trace['y'],c='black',s=3)\n",
    "for n in range(len(xs)):\n",
    "    ax.scatter(xs[n],ys[n],alpha = 0.15)\n",
    "ax.set_yticks([1.1,1.6,2.1,2.6,3.1,3.6])\n",
    "ax.set_yticklabels(selec_common)\n",
    "ax.set_xticks(())\n",
    "ax.text(-0.01,1.07,'25 codons')\n",
    "ax.text(-0.01,1.57,'118 codons')\n",
    "ax.text(-0.01,2.07,'571 codons')\n",
    "ax.text(-0.01,2.57,'348 codons')\n",
    "ax.text(-0.01,3.07,'375 codons')\n",
    "ax.text(-0.01,3.57,'281 codons, transl. repressed')\n",
    "#plt.savefig('Supp Figure 6.svg')\n",
    "plt.show()"
   ]
  },
  {
   "cell_type": "code",
   "execution_count": null,
   "metadata": {},
   "outputs": [],
   "source": []
  }
 ],
 "metadata": {
  "kernelspec": {
   "display_name": "Python 3",
   "language": "python",
   "name": "python3"
  },
  "language_info": {
   "codemirror_mode": {
    "name": "ipython",
    "version": 3
   },
   "file_extension": ".py",
   "mimetype": "text/x-python",
   "name": "python",
   "nbconvert_exporter": "python",
   "pygments_lexer": "ipython3",
   "version": "3.8.8"
  }
 },
 "nbformat": 4,
 "nbformat_minor": 4
}
